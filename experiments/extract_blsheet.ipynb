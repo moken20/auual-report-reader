{
 "cells": [
  {
   "cell_type": "code",
   "execution_count": null,
   "metadata": {},
   "outputs": [],
   "source": [
    "import re\n",
    "import io\n",
    "from pathlib import Path\n",
    "import json\n",
    "import sys\n",
    "import os\n",
    "sys.path.append(os.path.abspath('..'))\n",
    "\n",
    "import pandas as pd\n",
    "import tabula\n",
    "import pymupdf\n",
    "from PIL import Image\n",
    "from IPython.display import display\n",
    "\n",
    "import nest_asyncio\n",
    "from components.llm_blsheet_extractor import extract_balance_sheet, extract_text_from_pdf_with_llamaparse\n",
    "\n",
    "nest_asyncio.apply()\n",
    "BASE_DIR = Path.cwd().parent\n",
    "PDF_PATH_3M = BASE_DIR / 'data/raw_annual_report/3M 2022 Annual Report_Updated.pdf'\n",
    "PDF_PATH_IBM = BASE_DIR / 'data/raw_annual_report/IBM_Annual_Report_2023.pdf'"
   ]
  },
  {
   "cell_type": "code",
   "execution_count": null,
   "metadata": {},
   "outputs": [],
   "source": [
    "doc_3m = pymupdf.open(PDF_PATH_3M)\n",
    "doc_ibm = pymupdf.open(PDF_PATH_IBM)"
   ]
  },
  {
   "cell_type": "markdown",
   "metadata": {},
   "source": [
    "# 1. consolidated balance sheetのページ数の取得"
   ]
  },
  {
   "cell_type": "markdown",
   "metadata": {},
   "source": [
    "### 成功: pymupdfでoutline抽出"
   ]
  },
  {
   "cell_type": "code",
   "execution_count": null,
   "metadata": {},
   "outputs": [],
   "source": [
    "def get_balance_sheet_page(doc):\n",
    "    outline = doc.get_toc()\n",
    "    balance_sheet_pages = []\n",
    "    for idx, line in enumerate(outline):\n",
    "        if 'balance sheet' in line[1].lower() and line[2] != -1:\n",
    "            balance_sheet_start_page = line[2] - 1\n",
    "            next_topic_start_page = outline[idx + 1][2] - 1\n",
    "            balance_sheet_pages.extend(list(range(balance_sheet_start_page, next_topic_start_page)))\n",
    "    return balance_sheet_pages\n",
    "\n",
    "balance_sheet_pages_3m = get_balance_sheet_page(doc_3m)\n",
    "balance_sheet_pages_ibm = get_balance_sheet_page(doc_ibm)"
   ]
  },
  {
   "cell_type": "markdown",
   "metadata": {},
   "source": [
    "# 2. balance sheetの表抽出"
   ]
  },
  {
   "cell_type": "markdown",
   "metadata": {},
   "source": [
    "### 失敗1: pymupdではtableを検出できず"
   ]
  },
  {
   "cell_type": "code",
   "execution_count": null,
   "metadata": {},
   "outputs": [],
   "source": [
    "bl_sheet_page = doc_3m[balance_sheet_pages_3m[0]]\n",
    "tabs = bl_sheet_page.find_tables()\n",
    "print(tabs.tables)"
   ]
  },
  {
   "cell_type": "markdown",
   "metadata": {},
   "source": [
    "### 失敗2: tabulaではtableを検出できるが、カラム名が抽出できない等のミスが見られる"
   ]
  },
  {
   "cell_type": "code",
   "execution_count": null,
   "metadata": {},
   "outputs": [],
   "source": [
    "tabs = tabula.read_pdf(PDF_PATH_3M, lattice=False, pages=balance_sheet_pages_3m[0]+1)\n",
    "print(tabs[0].to_markdown())"
   ]
  },
  {
   "cell_type": "markdown",
   "metadata": {},
   "source": [
    "### 成功1: Llamaparseのmrakdown praserでは正確に表形式で抽出することに成功"
   ]
  },
  {
   "cell_type": "code",
   "execution_count": null,
   "metadata": {},
   "outputs": [],
   "source": [
    "def extract_markdown_table(content):\n",
    "    table_lines = []\n",
    "    in_table = False\n",
    "    for line in content.splitlines():\n",
    "        if line.startswith('|') and re.search(r'\\|', line):  # Table line detection\n",
    "            table_lines.append(line)\n",
    "            in_table = True\n",
    "        elif in_table and not line.startswith('|'):\n",
    "            break  # Stop when leaving the table section\n",
    "    return table_lines\n",
    "\n",
    "def convert_markdown_table_to_df(table_lines):\n",
    "    table_data = [line.strip('|').split('|') for line in table_lines]\n",
    "    headers = table_data[0]\n",
    "    data_rows = table_data[2:]\n",
    "    df = pd.DataFrame(data_rows, columns=[header.strip() for header in headers])\n",
    "    df = df.apply(lambda x: x.strip() if isinstance(x, str) else x)\n",
    "    return df\n",
    "\n",
    "extracted_text_llama = extract_text_from_pdf_with_llamaparse(PDF_PATH_3M, balance_sheet_pages_3m[0])\n",
    "extracted_markdown_table = extract_markdown_table(extracted_text_llama)\n",
    "print(convert_markdown_table_to_df(extracted_markdown_table).to_markdown())"
   ]
  },
  {
   "cell_type": "markdown",
   "metadata": {},
   "source": [
    "### 成功2: Llama parseしたtextをさらにllmで構造化することに成功"
   ]
  },
  {
   "cell_type": "code",
   "execution_count": null,
   "metadata": {},
   "outputs": [],
   "source": [
    "extracted_balance_sheets = []\n",
    "for page_num in balance_sheet_pages_3m:\n",
    "    balance_sheet = extract_balance_sheet(PDF_PATH_3M, page_num, target_year=2022)\n",
    "    extracted_balance_sheets.extend(json.loads(balance_sheet)['categories'])\n",
    "\n",
    "\n",
    "with open (BASE_DIR / 'data/extracted_balance_sheet/3m_2022.json', 'w') as f:\n",
    "    json.dump(extracted_balance_sheets, f, indent=2)\n",
    "\n",
    "extracted_balance_sheets\n"
   ]
  }
 ],
 "metadata": {
  "kernelspec": {
   "display_name": "annual-report-reader",
   "language": "python",
   "name": "annual-report-reader"
  },
  "language_info": {
   "codemirror_mode": {
    "name": "ipython",
    "version": 3
   },
   "file_extension": ".py",
   "mimetype": "text/x-python",
   "name": "python",
   "nbconvert_exporter": "python",
   "pygments_lexer": "ipython3",
   "version": "3.12.1"
  }
 },
 "nbformat": 4,
 "nbformat_minor": 2
}
