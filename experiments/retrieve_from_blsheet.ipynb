{
 "cells": [
  {
   "cell_type": "code",
   "execution_count": null,
   "metadata": {},
   "outputs": [],
   "source": [
    "import json\n",
    "from pathlib import Path\n",
    "import sys\n",
    "import os\n",
    "import ast\n",
    "import re\n",
    "sys.path.append(os.path.abspath('..'))\n",
    "\n",
    "import pandas as pd\n",
    "\n",
    "from langchain_openai import ChatOpenAI\n",
    "from langchain.prompts import PromptTemplate\n",
    "\n",
    "BASE_DIR = Path.cwd().parent\n",
    "pd.set_option('future.no_silent_downcasting', True)"
   ]
  },
  {
   "cell_type": "code",
   "execution_count": null,
   "metadata": {},
   "outputs": [],
   "source": [
    "company = '3m'\n",
    "year = 2022\n",
    "blsheet_path = BASE_DIR / f'data/extracted_balance_sheet/{company}_{year}.json'\n",
    "asset_category_reference_path = BASE_DIR / 'data/reference/asset_category_reference.txt'\n",
    "query_path = BASE_DIR / 'data/query/eng_query.csv'\n",
    "\n",
    "with open(blsheet_path) as f:\n",
    "    blsheet = json.load(f)\n",
    "with open(asset_category_reference_path) as f:  \n",
    "    category_description = f.read()"
   ]
  },
  {
   "cell_type": "markdown",
   "metadata": {},
   "source": [
    "# 1. Queryの準備"
   ]
  },
  {
   "cell_type": "code",
   "execution_count": null,
   "metadata": {},
   "outputs": [],
   "source": [
    "# queryの準備\n",
    "query_df = pd.read_csv(query_path).rename(columns={'Item': 'Query'})\n",
    "\n",
    "# 大分類ごとのクエリを作成\n",
    "current_asset_query_df = query_df.loc[0:10]\n",
    "current_asset_markdown_query = current_asset_query_df.to_markdown(index=False)\n",
    "\n",
    "fixed_asset_query_df = query_df.loc[11:24]\n",
    "fixed_asset_markdown_query = fixed_asset_query_df.to_markdown(index=False)\n",
    "\n",
    "deferred_charges_query_df = query_df.loc[25:25]\n",
    "deffered_charges_markdown_query = deferred_charges_query_df.to_markdown(index=False)\n",
    "\n",
    "total_asset_raw = query_df.loc[26:26]"
   ]
  },
  {
   "cell_type": "markdown",
   "metadata": {},
   "source": [
    "# 2. total assetを取得"
   ]
  },
  {
   "cell_type": "code",
   "execution_count": null,
   "metadata": {},
   "outputs": [],
   "source": [
    "def pop_total_asset_value(blsheet: list):\n",
    "    total_amount = 0\n",
    "    for category in blsheet:\n",
    "        if category['name'].lower() == 'total assets':\n",
    "            total_asset_category = category\n",
    "            blsheet.remove(category)\n",
    "            return total_asset_category['accounts'][0]['amount']\n",
    "        else:\n",
    "            total_amount += sum(\n",
    "                account['amount'] for account in category['accounts'] if 'total' not in account['name'].lower()\n",
    "            )\n",
    "    return total_amount\n",
    "\n",
    "total_asset_raw = total_asset_raw.copy()\n",
    "total_asset_raw.loc[:, 'prediction'] = pop_total_asset_value(blsheet)"
   ]
  },
  {
   "cell_type": "markdown",
   "metadata": {},
   "source": [
    "# 2. 出力フォーマットに従って残りの項目を回答"
   ]
  },
  {
   "cell_type": "code",
   "execution_count": null,
   "metadata": {},
   "outputs": [],
   "source": [
    "# gpt4-oのoutputをint型に矯正\n",
    "def validate_output(output):\n",
    "    numbers = re.findall(r'-?\\d+', output)\n",
    "    if numbers:\n",
    "        return int(numbers[-1])\n",
    "    else:\n",
    "        return output\n",
    "\n",
    "# 抽出結果の評価関数\n",
    "def evaluate_prediction(result_df):\n",
    "    result_df['prediction'] = result_df['prediction'].astype(int)\n",
    "    result_df['judgement'] = result_df['prediction'] == result_df['Answer (M USD)']\n",
    "    num_correect = len(result_df[result_df['judgement']])\n",
    "    print(f'number of correct answers: {num_correect}, acduracy rate: {num_correect / len(result_df)}')     \n",
    "    return result_df"
   ]
  },
  {
   "cell_type": "markdown",
   "metadata": {},
   "source": [
    "## 実験: 参照データが 全範囲 or 大分類ごとで精度比較"
   ]
  },
  {
   "cell_type": "markdown",
   "metadata": {},
   "source": [
    "### 1. 全範囲 -> 正答率 **46%** (12/26)"
   ]
  },
  {
   "cell_type": "code",
   "execution_count": null,
   "metadata": {},
   "outputs": [],
   "source": [
    "# 参照データの作成\n",
    "simple_asset_items = {'Item_name': [], 'Amount': []}\n",
    "for category in blsheet:\n",
    "    for account in category['accounts']:\n",
    "        simple_asset_items['Item_name'].append(account['name'])\n",
    "        simple_asset_items['Amount'].append(account['amount'])\n",
    "simple_asset_items_df = pd.DataFrame(simple_asset_items)\n",
    "simple_asset_items_markdown = simple_asset_items_df.to_markdown(index=False)"
   ]
  },
  {
   "cell_type": "code",
   "execution_count": null,
   "metadata": {},
   "outputs": [],
   "source": [
    "def retrieve_asset_amount(raw):\n",
    "    template = (\n",
    "        \"[Instruction]\\n\"\n",
    "        \"Your task is identifying and calculating the total amount for a query item from the provided balance sheet data.\\n\\n\"\n",
    "        \"Step to follow:\\n\"\n",
    "        \"1. Search for an exact match for the query item in the 'Item_name' column of the balance sheet.\\n\"\n",
    "        \"2. If no exact match is found, interpret the 'Description' and search for items with similar meanings or expressions, \"\n",
    "        \"even if the wording is different. Consider combinations of multiple rows that could sum up to represent the query item\\n\"\n",
    "        \"3. If, after these steps, no corresponding item can be identified, output a value of 0\\n\\n\"\n",
    "        \"[balance sheet]\\n{markdown_assets_items}\\n\\n\"\n",
    "        \"[query]\\n - Item name: {query}\\n - Description: {desc}\\n\\n\"\n",
    "        \"Output:\\n Only provide the total amount as a single integer value such as '-200'.\"\n",
    "        \"Do not include any explanations, calculations and other currency symbols ($).\\n\\n\"\n",
    "    )\n",
    "    massage_prompt = PromptTemplate(input_variable=[\"markdown_assets_items\", \"markdown_query\"], template=template)\n",
    "    prompt = massage_prompt.format_prompt(markdown_assets_items=simple_asset_items_markdown, query=raw['Query'], desc=raw['Description'])\n",
    "    client = ChatOpenAI(temperature=0.8)\n",
    "    return validate_output(client.invoke(prompt).content)\n",
    "\n",
    "query_df['prediction'] = query_df.apply(retrieve_asset_amount, axis=1)\n",
    "reslt_df = evaluate_prediction(query_df)\n",
    "print(reslt_df[['Query', 'prediction', 'Answer (M USD)', 'judgement']].to_markdown(index=False))"
   ]
  },
  {
   "cell_type": "markdown",
   "metadata": {},
   "source": [
    "### 3. 大分類ごと　--> 正答率: 54% (14/26)"
   ]
  },
  {
   "cell_type": "code",
   "execution_count": null,
   "metadata": {},
   "outputs": [],
   "source": [
    "categories = [category['name'] for category in blsheet]\n",
    "template = (\n",
    "    \"[Setting]\\n\"\n",
    "    \"You are analyzing a balance sheet and need to classify its categories into one of the following three groups:\"\n",
    "    f\"[Category Description]\\n{category_description}\\n\\n\"\n",
    "    \"[Instruction]\\n\"\n",
    "    \"Analyze the provided **[list of balance sheet] items.\"\n",
    "    \"For each item, determine whether it falls under three group based on the descriptions above\"\n",
    "    \"[format]\\n\"\n",
    "    \"dict['Current assets': [], 'Fixed assets': [], 'Deferred charges': [], 'Others': []]\\n\\n\"\n",
    "    \"It is acceptable if there is a group with no corresponding categories\\n\\n\"\n",
    "    f\"**[list of balance sheet items]\\n{categories}\"\n",
    "    \"\"\n",
    ")\n",
    "massage_prompt = PromptTemplate(input_variable=[\"categories\"], template=template)\n",
    "prompt = massage_prompt.format_prompt(categories=categories)\n",
    "client = ChatOpenAI(temperature=0.0)\n",
    "\n",
    "clasified_categories = client.invoke(prompt).content\n",
    "clasified_categoriy_dict = ast.literal_eval(clasified_categories)\n",
    "print(clasified_categories)"
   ]
  },
  {
   "cell_type": "code",
   "execution_count": null,
   "metadata": {},
   "outputs": [],
   "source": [
    "current_assets_items = []\n",
    "fixed_assets_items = []\n",
    "deferred_charges_items = []\n",
    "other_items = []\n",
    "\n",
    "for category in blsheet:\n",
    "    if category['name'] in clasified_categoriy_dict['Current assets']:\n",
    "        current_assets_items.extend(category['accounts'])\n",
    "    elif category['name'] in clasified_categoriy_dict['Fixed assets']:\n",
    "        fixed_assets_items.extend(category['accounts'])\n",
    "    elif category['name'] in clasified_categoriy_dict['Deferred charges']:\n",
    "        deferred_charges_items.extend(category['accounts'])\n",
    "    elif category['name'] in clasified_categoriy_dict['Others']:\n",
    "        other_items.extend(category['accounts'])\n",
    "\n",
    "current_assets_item_df = pd.DataFrame(current_assets_items).rename(columns={'name': 'Item_name', 'amount': 'Amount'})\n",
    "fixed_assets_item_df = pd.DataFrame(fixed_assets_items).rename(columns={'name': 'Item_name', 'amount': 'Amount'})\n",
    "deferred_charges_item_df = pd.DataFrame(deferred_charges_items).rename(columns={'name': 'Item_name', 'amount': 'Amount'})\n",
    "other_item_df = pd.DataFrame(other_items).rename(columns={'name': 'Item_name', 'amount': 'Amount'})\n",
    "\n",
    "markdown_current_assets_items = current_assets_item_df.to_markdown(index=False)\n",
    "markdown_fixed_assets_items = fixed_assets_item_df.to_markdown(index=False)\n",
    "markdown_deferred_charges_items = deferred_charges_item_df.to_markdown(index=False)\n",
    "markdown_other_items = other_item_df.to_markdown(index=False)"
   ]
  },
  {
   "cell_type": "code",
   "execution_count": null,
   "metadata": {},
   "outputs": [],
   "source": [
    "def retrieve_asset_amount(raw, markdown_assets_items):\n",
    "    template = (\n",
    "        \"[Instruction]\\n\"\n",
    "        \"Your task is identifying and calculating the total amount for a query item from the provided balance sheet data.\\n\\n\"\n",
    "        \"Step to follow:\\n\"\n",
    "        \"1. Search for an exact match for the query item in the 'Item_name' column of the balance sheet.\\n\"\n",
    "        \"2. If no exact match is found, search for item name with similar meanings or expressions with interpreting the 'Description'\"\n",
    "        \"3. If no relevant items are found in the balance sheet, refer to the [Other Assets] table and repeat steps 1 and 2\\n\"\n",
    "        \"even if the wording is different. Consider combinations of multiple rows that could sum up to represent the query item\\n\"\n",
    "        \"4. If, after these steps, no corresponding item can be identified, output a value of 0\\n\\n\"\n",
    "        \"[balance sheet]\\n{markdown_assets_items}\\n\\n\"\n",
    "        \"[other assets]\\n{markdown_other_items}\\n\\n\"\n",
    "        \"[query]\\n - Item name: {query}\\n - Description: {desc}\\n\\n\"\n",
    "        \"Output:\\n Only provide the total amount as a single integer value such as '-200'.\"\n",
    "        \"Do not include any explanations, calculations and other currency symbols.\\n\\n\"\n",
    "    )\n",
    "    massage_prompt = PromptTemplate(input_variable=[\"markdown_assets_items\", \"markdown_query\"], template=template)\n",
    "    prompt = massage_prompt.format_prompt(\n",
    "        markdown_assets_items=markdown_assets_items, markdown_other_items=markdown_other_items, query=raw['Query'], desc=raw['Description'])\n",
    "    client = ChatOpenAI(temperature=0.0)\n",
    "    response = client.invoke(prompt).content\n",
    "    return validate_output(response)\n",
    "\n",
    "current_asset_query_df.loc[:, 'prediction'] = current_asset_query_df.apply(lambda x: retrieve_asset_amount(x, markdown_current_assets_items), axis=1)\n",
    "fixed_asset_query_df.loc[:, 'prediction'] = fixed_asset_query_df.apply(lambda x: retrieve_asset_amount(x, markdown_fixed_assets_items), axis=1)\n",
    "deferred_charges_query_df.loc[:, 'prediction'] = deferred_charges_query_df.apply(lambda x: retrieve_asset_amount(x, markdown_deferred_charges_items), axis=1)\n",
    "result_df = pd.concat([current_asset_query_df, fixed_asset_query_df, deferred_charges_query_df], axis=0)\n",
    "evaluate_prediction(result_df)\n",
    "print(reslt_df[['Query', 'prediction', 'Answer (M USD)', 'judgement']].to_markdown(index=False))"
   ]
  },
  {
   "cell_type": "markdown",
   "metadata": {},
   "source": [
    "# 3: total assetsと結合して最終成果物作成"
   ]
  },
  {
   "cell_type": "code",
   "execution_count": null,
   "metadata": {},
   "outputs": [],
   "source": [
    "submit_df = pd.concat([total_asset_raw, result_df], axis=0)\n",
    "submit_df = evaluate_prediction(submit_df)\n",
    "print(submit_df[['Query', 'prediction', 'Answer (M USD)', 'judgement']].to_markdown(index=False))"
   ]
  }
 ],
 "metadata": {
  "kernelspec": {
   "display_name": "annual-report-reader",
   "language": "python",
   "name": "annual-report-reader"
  },
  "language_info": {
   "codemirror_mode": {
    "name": "ipython",
    "version": 3
   },
   "file_extension": ".py",
   "mimetype": "text/x-python",
   "name": "python",
   "nbconvert_exporter": "python",
   "pygments_lexer": "ipython3",
   "version": "3.12.1"
  }
 },
 "nbformat": 4,
 "nbformat_minor": 2
}
